{
 "cells": [
  {
   "cell_type": "markdown",
   "metadata": {},
   "source": [
    "# Assignment"
   ]
  },
  {
   "cell_type": "code",
   "execution_count": 4,
   "metadata": {},
   "outputs": [],
   "source": [
    "pythonlist = ['Ama', 54, 'Kojo', 45.5, 'Yhup', 52, 'Kwame', 96, 'Kwesi', 87, 'Roland', True, 'Nti',\n",
    "             45, 78.5, 'William', 68, 45.3, 78, 'Patty', False, 98, True, 'Adwoa',21, 65, 'Pappy',\n",
    "             14, 'Folly', False, 52, 'Pency']"
   ]
  },
  {
   "cell_type": "markdown",
   "metadata": {},
   "source": [
    "1. create four lists:\n",
    "a. Floats\n",
    "b. Ints\n",
    "c. Strings\n",
    "d. Booleans\n",
    "\n",
    "2. Place each item in the \"pythonlist\" in the right set created above.\n",
    "\n",
    "3. For the strings and booleans sets, sort the items\n",
    "\n"
   ]
  },
  {
   "cell_type": "code",
   "execution_count": 11,
   "metadata": {},
   "outputs": [],
   "source": [
    "Floats=[item for item in pythonlist if type(item)== float]\n",
    "Ints=[item for item in pythonlist if type(item)== int]\n",
    "Strings=[item for item in pythonlist if type(item)== str]\n",
    "Booleans=[item for item in pythonlist if type(item)== bool]"
   ]
  },
  {
   "cell_type": "code",
   "execution_count": 12,
   "metadata": {},
   "outputs": [
    {
     "name": "stdout",
     "output_type": "stream",
     "text": [
      "[45.5, 78.5, 45.3]\n",
      "[54, 52, 96, 87, 45, 68, 78, 98, 21, 65, 14, 52]\n",
      "['Ama', 'Kojo', 'Yhup', 'Kwame', 'Kwesi', 'Roland', 'Nti', 'William', 'Patty', 'Adwoa', 'Pappy', 'Folly', 'Pency']\n",
      "[True, False, True, False]\n"
     ]
    }
   ],
   "source": [
    "print(Floats)\n",
    "print(Ints)\n",
    "print(Strings)\n",
    "print(Booleans)"
   ]
  },
  {
   "cell_type": "code",
   "execution_count": 13,
   "metadata": {},
   "outputs": [
    {
     "name": "stdout",
     "output_type": "stream",
     "text": [
      "['Adwoa', 'Ama', 'Folly', 'Kojo', 'Kwame', 'Kwesi', 'Nti', 'Pappy', 'Patty', 'Pency', 'Roland', 'William', 'Yhup']\n",
      "[False, False, True, True]\n"
     ]
    }
   ],
   "source": [
    "print(sorted(Strings))\n",
    "print(sorted(Booleans))  \n"
   ]
  },
  {
   "cell_type": "code",
   "execution_count": null,
   "metadata": {},
   "outputs": [],
   "source": []
  },
  {
   "cell_type": "code",
   "execution_count": null,
   "metadata": {},
   "outputs": [],
   "source": []
  },
  {
   "cell_type": "code",
   "execution_count": null,
   "metadata": {},
   "outputs": [],
   "source": []
  }
 ],
 "metadata": {
  "kernelspec": {
   "display_name": "Python 3",
   "language": "python",
   "name": "python3"
  },
  "language_info": {
   "codemirror_mode": {
    "name": "ipython",
    "version": 3
   },
   "file_extension": ".py",
   "mimetype": "text/x-python",
   "name": "python",
   "nbconvert_exporter": "python",
   "pygments_lexer": "ipython3",
   "version": "3.8.8"
  }
 },
 "nbformat": 4,
 "nbformat_minor": 2
}
